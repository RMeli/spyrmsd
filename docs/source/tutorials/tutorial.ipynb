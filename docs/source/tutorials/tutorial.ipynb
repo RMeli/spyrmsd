{
 "cells": [
  {
   "attachments": {},
   "cell_type": "markdown",
   "metadata": {},
   "source": [
    "# Tutorial"
   ]
  },
  {
   "cell_type": "code",
   "execution_count": 1,
   "metadata": {},
   "outputs": [],
   "source": [
    "import spyrmsd\n",
    "from spyrmsd import io, rmsd"
   ]
  },
  {
   "attachments": {},
   "cell_type": "markdown",
   "metadata": {},
   "source": [
    "### OpenBabel or RDKit"
   ]
  },
  {
   "attachments": {},
   "cell_type": "markdown",
   "metadata": {},
   "source": [
    "`spyrmsd` natively supports [OpenBabel](http://openbabel.org/wiki/Main_Page) and [RDKit](http://rdkit.org/) to load molecules in order to work as a standalone tool. However, the API for RMSD calculations is extremely minimal and only needs the following information:\n",
    "\n",
    "* Atomic coordinates\n",
    "* Atomic numbers\n",
    "* Molecular adjacency matrix (for symmetry)\n",
    "\n",
    "This means that `spyrmsd` can be used in combination with any library that can provide such information."
   ]
  },
  {
   "attachments": {},
   "cell_type": "markdown",
   "metadata": {},
   "source": [
    "### Loading Molecules"
   ]
  },
  {
   "attachments": {},
   "cell_type": "markdown",
   "metadata": {},
   "source": [
    "The `spyrmsd.io` module provides functions to easily load molecules from a file and to transform them into a `spyrmsd.molecule.Molecule` object: "
   ]
  },
  {
   "cell_type": "code",
   "execution_count": 2,
   "metadata": {},
   "outputs": [],
   "source": [
    "ref = io.loadmol(\"molecules/1a4k_ligand.sdf\")"
   ]
  },
  {
   "attachments": {},
   "cell_type": "markdown",
   "metadata": {},
   "source": [
    "`io.loadmol` load a single molecule from a file. In order to load all molecules we need to use `io.loadallmols`:"
   ]
  },
  {
   "cell_type": "code",
   "execution_count": 3,
   "metadata": {},
   "outputs": [],
   "source": [
    "mols = io.loadallmols(\"molecules/1a4k_dock.sdf\")"
   ]
  },
  {
   "attachments": {},
   "cell_type": "markdown",
   "metadata": {},
   "source": [
    "### Loading RDKit or OpenBabel Molecules"
   ]
  },
  {
   "attachments": {},
   "cell_type": "markdown",
   "metadata": {},
   "source": [
    "`spyrmsd` natively supports Open Babel and RDKit (if installed). The `Molecule` class provides `from_openbabel()` and `from_rdkit()` constructors."
   ]
  },
  {
   "cell_type": "code",
   "execution_count": 4,
   "metadata": {},
   "outputs": [
    {
     "name": "stderr",
     "output_type": "stream",
     "text": [
      "<frozen importlib._bootstrap>:241: RuntimeWarning: to-Python converter for std::__1::pair<double, double> already registered; second conversion method ignored.\n",
      "[21:58:01] Molecule does not have explicit Hs. Consider calling AddHs()\n",
      "[21:58:01] Molecule does not have explicit Hs. Consider calling AddHs()\n"
     ]
    },
    {
     "data": {
      "text/plain": [
       "[0.019162902039384797]"
      ]
     },
     "execution_count": 4,
     "metadata": {},
     "output_type": "execute_result"
    }
   ],
   "source": [
    "from rdkit import Chem\n",
    "from rdkit.Chem import AllChem\n",
    "\n",
    "rdmol1 = Chem.MolFromSmiles(\"c1ccccc1\")\n",
    "rdmol2 = Chem.MolFromSmiles(\"c1ccccc1\")\n",
    "AllChem.EmbedMolecule(rdmol1)\n",
    "AllChem.EmbedMolecule(rdmol2)\n",
    "\n",
    "from spyrmsd.molecule import Molecule\n",
    "from spyrmsd.rmsd import rmsdwrapper\n",
    "\n",
    "mol1 = Molecule.from_rdkit(rdmol1)\n",
    "mol2 = Molecule.from_rdkit(rdmol2)\n",
    "\n",
    "rmsdwrapper(mol1, mol2)"
   ]
  },
  {
   "attachments": {},
   "cell_type": "markdown",
   "metadata": {},
   "source": [
    "### Removing Hydrogen Atoms"
   ]
  },
  {
   "attachments": {},
   "cell_type": "markdown",
   "metadata": {},
   "source": [
    "Hydrogen atoms can be removed with the `strip()` function:"
   ]
  },
  {
   "cell_type": "code",
   "execution_count": 5,
   "metadata": {},
   "outputs": [],
   "source": [
    "ref.strip()"
   ]
  },
  {
   "cell_type": "code",
   "execution_count": 6,
   "metadata": {},
   "outputs": [],
   "source": [
    "for mol in mols:\n",
    "    mol.strip()"
   ]
  },
  {
   "attachments": {},
   "cell_type": "markdown",
   "metadata": {},
   "source": [
    "## Symmetry-Corrected RMSD"
   ]
  },
  {
   "attachments": {},
   "cell_type": "markdown",
   "metadata": {},
   "source": [
    "`spyrmsd` only needs atomic coordinates, atomic number and the molecular adjacency matrix to compute the standard RMSD  with `spyrmsd.rmsd.symmrmsd`. The `spyrmsd.molecule.Molecule` class provides easy access to such information:"
   ]
  },
  {
   "cell_type": "code",
   "execution_count": 7,
   "metadata": {},
   "outputs": [],
   "source": [
    "coords_ref = ref.coordinates\n",
    "anum_ref = ref.atomicnums\n",
    "adj_ref = ref.adjacency_matrix"
   ]
  },
  {
   "cell_type": "code",
   "execution_count": 8,
   "metadata": {},
   "outputs": [],
   "source": [
    "coords = [mol.coordinates for mol in mols]\n",
    "anum = mols[0].atomicnums\n",
    "adj = mols[0].adjacency_matrix"
   ]
  },
  {
   "attachments": {},
   "cell_type": "markdown",
   "metadata": {},
   "source": [
    "With this information we can easily compute the RMSD between the reference molecule and all other molecules:"
   ]
  },
  {
   "cell_type": "code",
   "execution_count": 9,
   "metadata": {},
   "outputs": [
    {
     "name": "stdout",
     "output_type": "stream",
     "text": [
      "[2.0246085732404446, 1.4951562971486378, 10.028009301306854, 7.900570020309068, 7.578344354783399, 9.52999506817054, 4.952371789159667, 7.762808670066815, 9.996922964463582, 7.1732072690335755]\n"
     ]
    }
   ],
   "source": [
    "RMSD = rmsd.symmrmsd(\n",
    "    coords_ref,\n",
    "    coords,\n",
    "    anum_ref,\n",
    "    anum,\n",
    "    adj_ref,\n",
    "    adj,\n",
    ")\n",
    "\n",
    "print(RMSD)"
   ]
  },
  {
   "attachments": {},
   "cell_type": "markdown",
   "metadata": {},
   "source": [
    "### Minimum RMSD"
   ]
  },
  {
   "attachments": {},
   "cell_type": "markdown",
   "metadata": {},
   "source": [
    "We can also compute the minimum RMSD obtained by superimposing the molecular structures:"
   ]
  },
  {
   "cell_type": "code",
   "execution_count": 10,
   "metadata": {},
   "outputs": [
    {
     "name": "stdout",
     "output_type": "stream",
     "text": [
      "[1.2012368667355435, 1.0533413220699535, 1.153253104575529, 1.036542688936588, 0.8407673221224187, 1.1758143217869736, 0.7817315189656655, 1.0933314311267845, 1.0260767175206462, 0.9586369647000478]\n"
     ]
    }
   ],
   "source": [
    "RMSD = rmsd.symmrmsd(\n",
    "    coords_ref,\n",
    "    coords,\n",
    "    anum_ref,\n",
    "    anum,\n",
    "    adj_ref,\n",
    "    adj,\n",
    "    minimize=True,\n",
    ")\n",
    "\n",
    "print(RMSD)"
   ]
  },
  {
   "cell_type": "markdown",
   "metadata": {},
   "source": [
    "# Change Backend"
   ]
  },
  {
   "cell_type": "markdown",
   "metadata": {},
   "source": [
    "`spyrmsd` supports multiple backends. You see which backends are available by looking at the `available_backends` attribute:"
   ]
  },
  {
   "cell_type": "code",
   "execution_count": 11,
   "metadata": {},
   "outputs": [
    {
     "data": {
      "text/plain": [
       "['graph_tool', 'networkx']"
      ]
     },
     "execution_count": 11,
     "metadata": {},
     "output_type": "execute_result"
    }
   ],
   "source": [
    "spyrmsd.available_backends"
   ]
  },
  {
   "cell_type": "markdown",
   "metadata": {},
   "source": [
    "The available backends are a subset of the supported backends. Only the backends that are installed will be available."
   ]
  },
  {
   "cell_type": "markdown",
   "metadata": {},
   "source": [
    "You can check the current backend with"
   ]
  },
  {
   "cell_type": "code",
   "execution_count": 12,
   "metadata": {},
   "outputs": [
    {
     "data": {
      "text/plain": [
       "'graph_tool'"
      ]
     },
     "execution_count": 12,
     "metadata": {},
     "output_type": "execute_result"
    }
   ],
   "source": [
    "spyrmsd.get_backend()"
   ]
  },
  {
   "cell_type": "markdown",
   "metadata": {},
   "source": [
    "You can switch the backend using"
   ]
  },
  {
   "cell_type": "code",
   "execution_count": 13,
   "metadata": {},
   "outputs": [
    {
     "data": {
      "text/plain": [
       "'networkx'"
      ]
     },
     "execution_count": 13,
     "metadata": {},
     "output_type": "execute_result"
    }
   ],
   "source": [
    "spyrmsd.set_backend(\"networkx\")\n",
    "spyrmsd.get_backend()"
   ]
  }
 ],
 "metadata": {
  "kernelspec": {
   "display_name": "Python 3",
   "language": "python",
   "name": "python3"
  },
  "language_info": {
   "codemirror_mode": {
    "name": "ipython",
    "version": 3
   },
   "file_extension": ".py",
   "mimetype": "text/x-python",
   "name": "python",
   "nbconvert_exporter": "python",
   "pygments_lexer": "ipython3",
   "version": "3.11.8"
  }
 },
 "nbformat": 4,
 "nbformat_minor": 4
}
